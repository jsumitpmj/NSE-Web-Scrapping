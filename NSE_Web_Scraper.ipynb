{
 "cells": [
  {
   "cell_type": "code",
   "execution_count": 1,
   "metadata": {},
   "outputs": [],
   "source": [
    "from selenium import webdriver\n",
    "from selenium.webdriver.common.keys import Keys\n",
    "import re\n",
    "import time"
   ]
  },
  {
   "cell_type": "code",
   "execution_count": 8,
   "metadata": {},
   "outputs": [],
   "source": [
    "def calculate(stock):\n",
    "    try:\n",
    "        # After going through the site, I used selenium as python requests were not working on this site\n",
    "        link = \"https://www.nseindia.com/get-quotes/equity?symbol=\"+stock       # creating the link \n",
    "        driver = webdriver.Chrome(executable_path=r'chromedriver.exe')          # opening chromedriver\n",
    "        driver.minimize_window()\n",
    "        driver.set_page_load_timeout(30)                                        # setting page timeout\n",
    "        \n",
    "        driver.get(link)                                                        # Getting link html\n",
    "        time.sleep(15)                                                          # sleeping due to loading of the html page\n",
    "\n",
    "        a = driver.find_element_by_id(\"priceInfoTable\").get_attribute('outerHTML') # finding table elements to get OPEN,CLOSE\n",
    "        s = (re.search('<tbody class', a)).end()                                # searched through the outerHTML\n",
    "        opn = a[s+12:s+20]                                                      # OPEN value\n",
    "        close = a[s+29:s+37]                                                    # CLOSE value\n",
    "\n",
    "        low = driver.find_element_by_id('gq-e-idhlMin').get_attribute('innerHTML')    # LOW value\n",
    "        high = driver.find_element_by_id('gq-e-idhlMax').get_attribute('innerHTML')   # High value\n",
    "        volume = driver.find_element_by_id('orderBookTradeVol').get_attribute('innerHTML')    # Volume value\n",
    "        DD = driver.find_element_by_id('securityWiseDQ').get_attribute('innerHTML')    # Delivery Data value\n",
    "        DP =driver.find_element_by_id('securityWiseDQTQ').get_attribute('innerHTML')   # Delivery Percentage value\n",
    "        print('Data Retrieved\\n')\n",
    "        driver.quit()\n",
    "        return(opn,close,low,high,volume,DD,DP)\n",
    "    except:\n",
    "        driver.quit()\n",
    "        print('Internet timeout while Retrieving data\\n')\n",
    "        return(['-','-','-','-','-','-','-'])                                  # for not returning errors due to data not load"
   ]
  },
  {
   "cell_type": "code",
   "execution_count": 9,
   "metadata": {},
   "outputs": [
    {
     "name": "stdout",
     "output_type": "stream",
     "text": [
      "Retrieving : 1-RELIANCE\n",
      "Internet timeout while Retrieving data\n",
      "\n",
      "Retrieving : 2-HDFCBANK\n",
      "Data Retrieved\n",
      "\n",
      "Retrieving : 3-ADANIPORTS\n",
      "Data Retrieved\n",
      "\n",
      "Retrieving : 4-ITC\n",
      "Data Retrieved\n",
      "\n",
      "Retrieving : 5-SBIN\n",
      "Data Retrieved\n",
      "\n",
      "Retrieving : 6-IOC\n",
      "Data Retrieved\n",
      "\n",
      "Retrieving : 7-RBLBANK\n",
      "Internet timeout while Retrieving data\n",
      "\n"
     ]
    }
   ],
   "source": [
    "stocks=['RELIANCE','HDFCBANK','ADANIPORTS','ITC','SBIN','IOC','RBLBANK']       # given stocknames (SBI changed to SBIN)\n",
    "\n",
    "stocklist=[]\n",
    "cou=0\n",
    "for i in stocks:                                                              # looping through the list\n",
    "    cou+=1\n",
    "    print('Retrieving : '+str(cou)+'-'+i)\n",
    "    stocklist.append(calculate(i))                                           # saving data in a list"
   ]
  },
  {
   "cell_type": "code",
   "execution_count": 4,
   "metadata": {},
   "outputs": [],
   "source": [
    "import sys\n",
    "import pandas as pd"
   ]
  },
  {
   "cell_type": "code",
   "execution_count": 10,
   "metadata": {
    "scrolled": true
   },
   "outputs": [
    {
     "name": "stdout",
     "output_type": "stream",
     "text": [
      "List of 128 bits\n",
      "\n",
      "    STOCKNAME      Open      High       Low     Close       Volume  \\\n",
      "0    RELIANCE         -         -         -         -            -   \n",
      "1    HDFCBANK  1,407.20  1,398.00  1,375.75  1,402.00    98,63,983   \n",
      "2  ADANIPORTS  463.90</  3.90</td    457.00    474.10    47,85,102   \n",
      "3         ITC  205.40</  6.65</td    203.15    213.65  6,52,27,495   \n",
      "4        SBIN  270.35</  9.00</td    265.55    271.00            -   \n",
      "5         IOC  93.95</t  90</td><     91.15     93.90  2,22,43,189   \n",
      "6     RBLBANK         -         -         -         -            -   \n",
      "\n",
      "  Delivery Data Delivery Percentage  \n",
      "0             -                   -  \n",
      "1     48,92,859             57.33 %  \n",
      "2      9,33,162             22.17 %  \n",
      "3   2,12,98,249             37.61 %  \n",
      "4             -                   -  \n",
      "5     37,58,292             20.10 %  \n",
      "6             -                   -  \n"
     ]
    }
   ],
   "source": [
    "print('List of '+str(sys.getsizeof(stocklist))+' bits\\n')                      # printing the stored data \n",
    "df = pd.DataFrame(stocklist,columns=['Open','High','Low','Close','Volume','Delivery Data','Delivery Percentage']) #creating  a data fram\n",
    "df.insert(0, \"STOCKNAME\", stocks, True)                                      # inserting first row as Stocknames\n",
    "print(df)                                                                    # printing data in user readable format"
   ]
  },
  {
   "cell_type": "code",
   "execution_count": null,
   "metadata": {},
   "outputs": [],
   "source": []
  }
 ],
 "metadata": {
  "kernelspec": {
   "display_name": "Python 3",
   "language": "python",
   "name": "python3"
  },
  "language_info": {
   "codemirror_mode": {
    "name": "ipython",
    "version": 3
   },
   "file_extension": ".py",
   "mimetype": "text/x-python",
   "name": "python",
   "nbconvert_exporter": "python",
   "pygments_lexer": "ipython3",
   "version": "3.7.4"
  }
 },
 "nbformat": 4,
 "nbformat_minor": 2
}
